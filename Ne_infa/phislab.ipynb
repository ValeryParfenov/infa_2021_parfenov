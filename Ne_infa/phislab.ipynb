{
 "cells": [
  {
   "cell_type": "code",
   "execution_count": 35,
   "metadata": {},
   "outputs": [
    {
     "name": "stdout",
     "output_type": "stream",
     "text": [
      "СРЕДНЕЕ\n",
      "2.0 - среднее значение\n",
      "0.6666666666666666 - среднее отклонение от среднего \n",
      "\n",
      "СРЕДНЕ КВАДРАТИЧНОЕ\n",
      "2.160246899469287 - среднеквадратичное значение\n",
      "0.816496580927726 - среднеквадратичное отклонение от среднего\n",
      "0.8320731551108872 - среднеквадратичное отклонение от среднеквадратичного \n",
      "\n",
      "1.0 - случайная ошибка единичного измерения\n",
      "0.5773502691896257 - случайная ошибка каждого измерения в серии\n",
      "0.3333333333333333 - дисперсия\n",
      "\n",
      "\n",
      "---------------- МНК -----------------\n",
      "\n",
      "y = a + bx\n",
      "b = 2.9999999999999987 +- 0.3333333333333346\n",
      "a = -0.3333333333333304 +- 0.2721655269759098\n"
     ]
    },
    {
     "data": {
      "image/png": "[encoded data removed]",
      "text/plain": [
       "<Figure size 432x288 with 1 Axes>"
      ]
     },
     "metadata": {
      "needs_background": "light"
     },
     "output_type": "display_data"
    }
   ],
   "source": [
    "import numpy as np \n",
    "import matplotlib.pyplot as plt\n",
    "X = np.array([1, 2, 3])\n",
    "Y = np.array([3, 5, 9])\n",
    "LX = len(X)\n",
    "\n",
    "print(\"СРЕДНЕЕ\")\n",
    "x1 = np.mean(X)\n",
    "print(x1 , \"- среднее значение\")\n",
    "X1 = X - x1\n",
    "x11 = np.mean(abs(X1))\n",
    "print(x11 , \"- среднее отклонение от среднего \\n\")\n",
    "\n",
    "print(\"СРЕДНЕ КВАДРАТИЧНОЕ\")\n",
    "X2 = (X) ** 2\n",
    "x2 = (np.mean(X2)) ** 0.5\n",
    "print(x2 , \"- среднеквадратичное значение\")\n",
    "x21 = (np.mean((X - x1) ** 2)) ** 0.5\n",
    "print(x21 , \"- среднеквадратичное отклонение от среднего\")\n",
    "x22 = (np.mean((X - x2) ** 2)) ** 0.5\n",
    "print(x22 , \"- среднеквадратичное отклонение от среднеквадратичного \\n\")\n",
    "\n",
    "x3 = (np.sum((X - x1) ** 2) / (LX - 1)) ** 0.5\n",
    "print(x3, \"- случайная ошибка единичного измерения\")\n",
    "x31 = (np.sum((X - x1) ** 2) / ((LX - 1) * LX)) ** 0.5\n",
    "print(x31, \"- случайная ошибка каждого измерения в серии\")\n",
    "x32 = x31 ** 2\n",
    "print(x32, \"- дисперсия\\n\\n\")\n",
    "\n",
    "print(\"---------------- МНК -----------------\\n\")\n",
    "b = (np.mean(X * Y) - np.mean(X) * np.mean(Y)) / (np.mean(X ** 2) - np.mean(X) ** 2)\n",
    "a = np.mean(Y) - b * np.mean(X)\n",
    "Sb = (1 / LX ** 0.5) * ((np.mean(Y ** 2) - np.mean(Y) ** 2) / (np.mean(X ** 2) - np.mean(X) ** 2) - b ** 2) ** 0.5\n",
    "Sa = Sb * (np.mean(X ** 2) - np.mean(X) ** 2) ** 0.5\n",
    "Y1 = a + b * X\n",
    "\n",
    "plt.plot(Y, X, 'g^', Y1, X)\n",
    "print(\"y = a + bx\")\n",
    "print(\"b =\", b, \"+-\", Sb)\n",
    "print(\"a =\", a, \"+-\", Sa)"
   ]
  }
 ],
 "metadata": {
  "kernelspec": {
   "display_name": "Python 3 (ipykernel)",
   "language": "python",
   "name": "python3"
  },
  "language_info": {
   "codemirror_mode": {
    "name": "ipython",
    "version": 3
   },
   "file_extension": ".py",
   "mimetype": "text/x-python",
   "name": "python",
   "nbconvert_exporter": "python",
   "pygments_lexer": "ipython3",
   "version": "3.9.7"
  }
 },
 "nbformat": 4,
 "nbformat_minor": 1
}